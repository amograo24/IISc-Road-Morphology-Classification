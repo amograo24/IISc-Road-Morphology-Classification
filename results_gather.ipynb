{
 "cells": [
  {
   "cell_type": "markdown",
   "metadata": {},
   "source": [
    "# Gathering Results from Logs from Experiments\n",
    "\n",
    "- Note: All outputs have been removed for confidentiality purposes."
   ]
  },
  {
   "cell_type": "code",
   "execution_count": 1,
   "metadata": {},
   "outputs": [],
   "source": [
    "import pandas as pd\n",
    "import os\n",
    "import numpy as np"
   ]
  },
  {
   "cell_type": "markdown",
   "metadata": {},
   "source": [
    "# DenseNet161"
   ]
  },
  {
   "cell_type": "markdown",
   "metadata": {},
   "source": [
    "### DenseNet161-NoNorm-ImageNet-Aug"
   ]
  },
  {
   "cell_type": "code",
   "execution_count": 2,
   "metadata": {},
   "outputs": [],
   "source": [
    "d161_imagenet_aug_val_0 = pd.read_csv('./AUG-New-IISc/IISc-densenet161-New-NoNorm-ImageNet-AUG/logs/val_metrics_0_densenet161.csv')\n",
    "d161_imagenet_aug_val_30 = pd.read_csv('./AUG-New-IISc/IISc-densenet161-New-NoNorm-ImageNet-AUG/logs/val_metrics_30_densenet161.csv')\n",
    "d161_imagenet_aug_val_45 = pd.read_csv('./AUG-New-IISc/IISc-densenet161-New-NoNorm-ImageNet-AUG/logs/val_metrics_45_densenet161.csv')\n",
    "\n",
    "d161_imagenet_aug_val = pd.concat([d161_imagenet_aug_val_0, d161_imagenet_aug_val_30, d161_imagenet_aug_val_45]).reset_index(drop=True)\n",
    "\n",
    "d161_imagenet_aug_test_0 = pd.read_csv('./AUG-New-IISc/IISc-densenet161-New-NoNorm-ImageNet-AUG/logs/test_metrics_0_densenet161.csv')\n",
    "d161_imagenet_aug_test_30 = pd.read_csv('./AUG-New-IISc/IISc-densenet161-New-NoNorm-ImageNet-AUG/logs/test_metrics_30_densenet161.csv')\n",
    "d161_imagenet_aug_test_45 = pd.read_csv('./AUG-New-IISc/IISc-densenet161-New-NoNorm-ImageNet-AUG/logs/test_metrics_45_densenet161.csv')\n",
    "\n",
    "d161_imagenet_aug_test = pd.concat([d161_imagenet_aug_test_0, d161_imagenet_aug_test_30, d161_imagenet_aug_test_45]).reset_index(drop=True)\n"
   ]
  },
  {
   "cell_type": "code",
   "execution_count": null,
   "metadata": {},
   "outputs": [],
   "source": [
    "d161_imagenet_aug_val_hamming = d161_imagenet_aug_val['Hamming Score'].nlargest(2)\n",
    "d161_imagenet_aug_val_f1 = d161_imagenet_aug_val['W_Avg_F1'].nlargest(2)\n",
    "d161_imagenet_aug_val_precision = d161_imagenet_aug_val['W_Avg_P'].nlargest(2)\n",
    "d161_imagenet_aug_val_recall = d161_imagenet_aug_val['W_Avg_R'].nlargest(2)\n",
    "d161_imagenet_aug_val_zero_one = d161_imagenet_aug_val['Zero One Loss'].nsmallest(2)\n",
    "d161_imagenet_aug_val_loss = d161_imagenet_aug_val['Loss'].nsmallest(2)\n",
    "\n",
    "print('Densenet161 ImageNet Augmented Validation Metrics')\n",
    "print('Hamming Score:', d161_imagenet_aug_val_hamming)\n",
    "print()\n",
    "print('F1 Score:', d161_imagenet_aug_val_f1)\n",
    "print()\n",
    "print('Precision:', d161_imagenet_aug_val_precision)\n",
    "print()\n",
    "print('Recall:', d161_imagenet_aug_val_recall)\n",
    "print()\n",
    "print('Zero One Loss:', d161_imagenet_aug_val_zero_one)\n",
    "print()\n",
    "print('Loss:', d161_imagenet_aug_val_loss)\n",
    "print()\n",
    "\n",
    "# print(d161_imagenet_aug_val.iloc[21])"
   ]
  },
  {
   "cell_type": "code",
   "execution_count": null,
   "metadata": {},
   "outputs": [],
   "source": [
    "d161_imagenet_aug_test_hamming = d161_imagenet_aug_test['Hamming Score'].nlargest(2)\n",
    "d161_imagenet_aug_test_f1 = d161_imagenet_aug_test['W_Avg_F1'].nlargest(2)\n",
    "d161_imagenet_aug_test_precision = d161_imagenet_aug_test['W_Avg_P'].nlargest(2)\n",
    "d161_imagenet_aug_test_recall = d161_imagenet_aug_test['W_Avg_R'].nlargest(2)\n",
    "d161_imagenet_aug_test_zero_one = d161_imagenet_aug_test['Zero One Loss'].nsmallest(2)\n",
    "d161_imagenet_aug_test_loss = d161_imagenet_aug_test['Loss'].nsmallest(2)\n",
    "\n",
    "print('Densenet161 ImageNet Augmented Test Metrics')\n",
    "print('Hamming Score:', d161_imagenet_aug_test_hamming)\n",
    "print()\n",
    "print('F1 Score:', d161_imagenet_aug_test_f1)\n",
    "print()\n",
    "print('Precision:', d161_imagenet_aug_test_precision)\n",
    "print()\n",
    "print('Recall:', d161_imagenet_aug_test_recall)\n",
    "print()\n",
    "print('Zero One Loss:', d161_imagenet_aug_test_zero_one)\n",
    "print()\n",
    "print('Loss:', d161_imagenet_aug_test_loss)\n",
    "print()"
   ]
  },
  {
   "cell_type": "markdown",
   "metadata": {},
   "source": [
    "### DenseNet161-NoNorm-ImageNet"
   ]
  },
  {
   "cell_type": "code",
   "execution_count": 5,
   "metadata": {},
   "outputs": [],
   "source": [
    "d161_imagenet_val_0 = pd.read_csv('./New-IISc/IISc-densenet161-New-NoNorm-ImageNet/logs/val_metrics_0_densenet161.csv')\n",
    "d161_imagenet_val_30 = pd.read_csv('./New-IISc/IISc-densenet161-New-NoNorm-ImageNet/logs/val_metrics_30_densenet161.csv')\n",
    "\n",
    "d161_imagenet_val = pd.concat([d161_imagenet_val_0, d161_imagenet_val_30]).reset_index(drop=True)\n",
    "\n",
    "d161_imagenet_test_0 = pd.read_csv('./New-IISc/IISc-densenet161-New-NoNorm-ImageNet/logs/test_metrics_0_densenet161.csv')\n",
    "d161_imagenet_test_30 = pd.read_csv('./New-IISc/IISc-densenet161-New-NoNorm-ImageNet/logs/test_metrics_30_densenet161.csv')\n",
    "\n",
    "d161_imagenet_test = pd.concat([d161_imagenet_test_0, d161_imagenet_test_30]).reset_index(drop=True)"
   ]
  },
  {
   "cell_type": "code",
   "execution_count": null,
   "metadata": {},
   "outputs": [],
   "source": [
    "d161_imagenet_val_hamming = d161_imagenet_val['Hamming Score'].nlargest(2)\n",
    "d161_imagenet_val_f1 = d161_imagenet_val['W_Avg_F1'].nlargest(2)\n",
    "d161_imagenet_val_precision = d161_imagenet_val['W_Avg_P'].nlargest(2)\n",
    "d161_imagenet_val_recall = d161_imagenet_val['W_Avg_R'].nlargest(2)\n",
    "d161_imagenet_val_zero_one = d161_imagenet_val['Zero One Loss'].nsmallest(2)\n",
    "d161_imagenet_val_loss = d161_imagenet_val['Loss'].nsmallest(2)\n",
    "\n",
    "print('Densenet161 ImageNet Validation Metrics')\n",
    "print('Hamming Score:', d161_imagenet_val_hamming)\n",
    "print()\n",
    "print('F1 Score:', d161_imagenet_val_f1)\n",
    "print()\n",
    "print('Precision:', d161_imagenet_val_precision)\n",
    "print()\n",
    "print('Recall:', d161_imagenet_val_recall)\n",
    "print()\n",
    "print('Zero One Loss:', d161_imagenet_val_zero_one)\n",
    "print()\n",
    "print('Loss:', d161_imagenet_val_loss)\n",
    "print()"
   ]
  },
  {
   "cell_type": "code",
   "execution_count": null,
   "metadata": {},
   "outputs": [],
   "source": [
    "d161_imagenet_test_hamming = d161_imagenet_test['Hamming Score'].nlargest(2)\n",
    "d161_imagenet_test_f1 = d161_imagenet_test['W_Avg_F1'].nlargest(2)\n",
    "d161_imagenet_test_precision = d161_imagenet_test['W_Avg_P'].nlargest(2)\n",
    "d161_imagenet_test_recall = d161_imagenet_test['W_Avg_R'].nlargest(2)\n",
    "d161_imagenet_test_zero_one = d161_imagenet_test['Zero One Loss'].nsmallest(2)\n",
    "d161_imagenet_test_loss = d161_imagenet_test['Loss'].nsmallest(2)\n",
    "\n",
    "print('Densenet161 ImageNet Test Metrics')\n",
    "print('Hamming Score:', d161_imagenet_test_hamming)\n",
    "print()\n",
    "print('F1 Score:', d161_imagenet_test_f1)\n",
    "print()\n",
    "print('Precision:', d161_imagenet_test_precision)\n",
    "print()\n",
    "print('Recall:', d161_imagenet_test_recall)\n",
    "print()\n",
    "print('Zero One Loss:', d161_imagenet_test_zero_one)\n",
    "print()\n",
    "print('Loss:', d161_imagenet_test_loss)\n",
    "print()"
   ]
  },
  {
   "cell_type": "markdown",
   "metadata": {},
   "source": [
    "### DenseNet161-Gray"
   ]
  },
  {
   "cell_type": "code",
   "execution_count": 10,
   "metadata": {},
   "outputs": [],
   "source": [
    "d161_gray_val = pd.read_csv('./New-IISc/IISc-densenet161-New-Gray/logs/val_metrics_0_densenet161.csv')\n",
    "d161_gray_test = pd.read_csv('./New-IISc/IISc-densenet161-New-Gray/logs/test_metrics_0_densenet161.csv')"
   ]
  },
  {
   "cell_type": "code",
   "execution_count": null,
   "metadata": {},
   "outputs": [],
   "source": [
    "d161_gray_val_hamming = d161_gray_val['Hamming Score'].nlargest(2)\n",
    "d161_gray_val_f1 = d161_gray_val['W_Avg_F1'].nlargest(2)\n",
    "d161_gray_val_precision = d161_gray_val['W_Avg_P'].nlargest(2)\n",
    "d161_gray_val_recall = d161_gray_val['W_Avg_R'].nlargest(2)\n",
    "d161_gray_val_zero_one = d161_gray_val['Zero One Loss'].nsmallest(2)\n",
    "d161_gray_val_loss = d161_gray_val['Loss'].nsmallest(2)\n",
    "\n",
    "print('Densenet161 Gray Validation Metrics')\n",
    "print('Hamming Score:', d161_gray_val_hamming)\n",
    "print()\n",
    "print('F1 Score:', d161_gray_val_f1)\n",
    "print()\n",
    "print('Precision:', d161_gray_val_precision)\n",
    "print()\n",
    "print('Recall:', d161_gray_val_recall)\n",
    "print()\n",
    "print('Zero One Loss:', d161_gray_val_zero_one)\n",
    "print()\n",
    "print('Loss:', d161_gray_val_loss)\n",
    "print()"
   ]
  },
  {
   "cell_type": "code",
   "execution_count": null,
   "metadata": {},
   "outputs": [],
   "source": [
    "d161_gray_test_hamming = d161_gray_test['Hamming Score'].nlargest(2)\n",
    "d161_gray_test_f1 = d161_gray_test['W_Avg_F1'].nlargest(2)\n",
    "d161_gray_test_precision = d161_gray_test['W_Avg_P'].nlargest(2)\n",
    "d161_gray_test_recall = d161_gray_test['W_Avg_R'].nlargest(2)\n",
    "d161_gray_test_zero_one = d161_gray_test['Zero One Loss'].nsmallest(2)\n",
    "d161_gray_test_loss = d161_gray_test['Loss'].nsmallest(2)\n",
    "\n",
    "print('Densenet161 Gray Test Metrics')\n",
    "print('Hamming Score:', d161_gray_test_hamming)\n",
    "print()\n",
    "print('F1 Score:', d161_gray_test_f1)\n",
    "print()\n",
    "print('Precision:', d161_gray_test_precision)\n",
    "print()\n",
    "print('Recall:', d161_gray_test_recall)\n",
    "print()\n",
    "print('Zero One Loss:', d161_gray_test_zero_one)\n",
    "print()\n",
    "print('Loss:', d161_gray_test_loss)\n",
    "print()\n"
   ]
  },
  {
   "cell_type": "markdown",
   "metadata": {},
   "source": [
    "# EfficientNet-B5"
   ]
  },
  {
   "cell_type": "markdown",
   "metadata": {},
   "source": [
    "### EfficientNet-B5-ImageNet-NoNorm"
   ]
  },
  {
   "cell_type": "code",
   "execution_count": 19,
   "metadata": {},
   "outputs": [],
   "source": [
    "eb5_imagenet_val = pd.read_csv('New-IISc/IISc-efficientnet_b5-New-NoNorm-ImageNet/logs/val_metrics_0_efficientnet_b5.csv')\n",
    "eb5_imagenet_test = pd.read_csv('New-IISc/IISc-efficientnet_b5-New-NoNorm-ImageNet/logs/test_metrics_0_efficientnet_b5.csv')"
   ]
  },
  {
   "cell_type": "code",
   "execution_count": null,
   "metadata": {},
   "outputs": [],
   "source": [
    "eb5_imagenet_val_hamming = eb5_imagenet_val['Hamming Score'].nlargest(2)\n",
    "eb5_imagenet_val_f1 = eb5_imagenet_val['W_Avg_F1'].nlargest(2)\n",
    "eb5_imagenet_val_precision = eb5_imagenet_val['W_Avg_P'].nlargest(2)\n",
    "eb5_imagenet_val_recall = eb5_imagenet_val['W_Avg_R'].nlargest(2)\n",
    "eb5_imagenet_val_zero_one = eb5_imagenet_val['Zero One Loss'].nsmallest(2)\n",
    "eb5_imagenet_val_loss = eb5_imagenet_val['Loss'].nsmallest(2)\n",
    "\n",
    "print('EfficientNet B5 ImageNet Validation Metrics')\n",
    "print('Hamming Score:', eb5_imagenet_val_hamming)\n",
    "print()\n",
    "print('F1 Score:', eb5_imagenet_val_f1)\n",
    "print()\n",
    "print('Precision:', eb5_imagenet_val_precision)\n",
    "print()\n",
    "print('Recall:', eb5_imagenet_val_recall)\n",
    "print()\n",
    "print('Zero One Loss:', eb5_imagenet_val_zero_one)\n",
    "print()\n",
    "print('Loss:', eb5_imagenet_val_loss)\n",
    "print()"
   ]
  },
  {
   "cell_type": "code",
   "execution_count": null,
   "metadata": {},
   "outputs": [],
   "source": [
    "eb5_imagenet_test_hamming = eb5_imagenet_test['Hamming Score'].nlargest(2)\n",
    "eb5_imagenet_test_f1 = eb5_imagenet_test['W_Avg_F1'].nlargest(2)\n",
    "eb5_imagenet_test_precision = eb5_imagenet_test['W_Avg_P'].nlargest(2)\n",
    "eb5_imagenet_test_recall = eb5_imagenet_test['W_Avg_R'].nlargest(2)\n",
    "eb5_imagenet_test_zero_one = eb5_imagenet_test['Zero One Loss'].nsmallest(2)\n",
    "eb5_imagenet_test_loss = eb5_imagenet_test['Loss'].nsmallest(2)\n",
    "\n",
    "print('EfficientNet B5 ImageNet Test Metrics')\n",
    "print('Hamming Score:', eb5_imagenet_test_hamming)\n",
    "print()\n",
    "print('F1 Score:', eb5_imagenet_test_f1)\n",
    "print()\n",
    "print('Precision:', eb5_imagenet_test_precision)\n",
    "print()\n",
    "print('Recall:', eb5_imagenet_test_recall)\n",
    "print()\n",
    "print('Zero One Loss:', eb5_imagenet_test_zero_one)\n",
    "print()\n",
    "print('Loss:', eb5_imagenet_test_loss)\n",
    "print()\n"
   ]
  },
  {
   "cell_type": "markdown",
   "metadata": {},
   "source": [
    "### EfficientNet-B5-ImageNet-NoNorm-Aug"
   ]
  },
  {
   "cell_type": "code",
   "execution_count": 40,
   "metadata": {},
   "outputs": [],
   "source": [
    "eb5_imagenet_aug_val_0 = pd.read_csv('AUG-New-IISc/IISc-efficientnet_b5-New-NoNorm-ImageNet-AUG/logs/val_metrics_0_efficientnet_b5.csv')\n",
    "eb5_imagenet_aug_val_30 = pd.read_csv('AUG-New-IISc/IISc-efficientnet_b5-New-NoNorm-ImageNet-AUG/logs/val_metrics_30_efficientnet_b5.csv')\n",
    "eb5_imagenet_aug_val_45 = pd.read_csv('AUG-New-IISc/IISc-efficientnet_b5-New-NoNorm-ImageNet-AUG/logs/val_metrics_45_efficientnet_b5.csv')\n",
    "\n",
    "eb5_imagenet_aug_val = pd.concat([eb5_imagenet_aug_val_0, eb5_imagenet_aug_val_30, eb5_imagenet_aug_val_45]).reset_index(drop=True)\n",
    "\n",
    "eb5_imagenet_aug_test_0 = pd.read_csv('AUG-New-IISc/IISc-efficientnet_b5-New-NoNorm-ImageNet-AUG/logs/test_metrics_0_efficientnet_b5.csv')\n",
    "eb5_imagenet_aug_test_30 = pd.read_csv('AUG-New-IISc/IISc-efficientnet_b5-New-NoNorm-ImageNet-AUG/logs/test_metrics_30_efficientnet_b5.csv')\n",
    "eb5_imagenet_aug_test_45 = pd.read_csv('AUG-New-IISc/IISc-efficientnet_b5-New-NoNorm-ImageNet-AUG/logs/test_metrics_45_efficientnet_b5.csv')\n",
    "\n",
    "eb5_imagenet_aug_test = pd.concat([eb5_imagenet_aug_test_0, eb5_imagenet_aug_test_30, eb5_imagenet_aug_test_45]).reset_index(drop=True)"
   ]
  },
  {
   "cell_type": "code",
   "execution_count": null,
   "metadata": {},
   "outputs": [],
   "source": [
    "eb5_imagenet_aug_hamming = eb5_imagenet_aug_val['Hamming Score'].nlargest(2)\n",
    "eb5_imagenet_aug_f1 = eb5_imagenet_aug_val['W_Avg_F1'].nlargest(2)\n",
    "eb5_imagenet_aug_precision = eb5_imagenet_aug_val['W_Avg_P'].nlargest(2)\n",
    "eb5_imagenet_aug_recall = eb5_imagenet_aug_val['W_Avg_R'].nlargest(2)\n",
    "eb5_imagenet_aug_zero_one = eb5_imagenet_aug_val['Zero One Loss'].nsmallest(2)\n",
    "eb5_imagenet_aug_loss = eb5_imagenet_aug_val['Loss'].nsmallest(2)\n",
    "\n",
    "print('EfficientNet B5 ImageNet Augmented Validation Metrics')\n",
    "print('Hamming Score:', eb5_imagenet_aug_hamming)\n",
    "print()\n",
    "print('F1 Score:', eb5_imagenet_aug_f1)\n",
    "print()\n",
    "print('Precision:', eb5_imagenet_aug_precision)\n",
    "print()\n",
    "print('Recall:', eb5_imagenet_aug_recall)\n",
    "print()\n",
    "print('Zero One Loss:', eb5_imagenet_aug_zero_one)\n",
    "print()\n",
    "print('Loss:', eb5_imagenet_aug_loss)\n",
    "print()"
   ]
  },
  {
   "cell_type": "code",
   "execution_count": null,
   "metadata": {},
   "outputs": [],
   "source": [
    "eb5_imagenet_aug_test_hamming = eb5_imagenet_aug_test['Hamming Score'].nlargest(2)\n",
    "eb5_imagenet_aug_test_f1 = eb5_imagenet_aug_test['W_Avg_F1'].nlargest(2)\n",
    "eb5_imagenet_aug_test_precision = eb5_imagenet_aug_test['W_Avg_P'].nlargest(2)\n",
    "eb5_imagenet_aug_test_recall = eb5_imagenet_aug_test['W_Avg_R'].nlargest(2)\n",
    "eb5_imagenet_aug_test_zero_one = eb5_imagenet_aug_test['Zero One Loss'].nsmallest(2)\n",
    "eb5_imagenet_aug_test_loss = eb5_imagenet_aug_test['Loss'].nsmallest(2)\n",
    "\n",
    "print('EfficientNet B5 ImageNet Augmented Test Metrics')\n",
    "print('Hamming Score:', eb5_imagenet_aug_test_hamming)\n",
    "print()\n",
    "print('F1 Score:', eb5_imagenet_aug_test_f1)\n",
    "print()\n",
    "print('Precision:', eb5_imagenet_aug_test_precision)\n",
    "print()\n",
    "print('Recall:', eb5_imagenet_aug_test_recall)\n",
    "print()\n",
    "print('Zero One Loss:', eb5_imagenet_aug_test_zero_one)\n",
    "print()\n",
    "print('Loss:', eb5_imagenet_aug_test_loss)\n",
    "print()"
   ]
  },
  {
   "cell_type": "markdown",
   "metadata": {},
   "source": [
    "# ResNeXt50"
   ]
  },
  {
   "cell_type": "code",
   "execution_count": 27,
   "metadata": {},
   "outputs": [],
   "source": [
    "rxt50_imagenet_val = pd.read_csv('New-IISc/IISc-resnext50_32x4d-New-NoNorm-ImageNet/logs/val_metrics_0_resnext50_32x4d.csv')\n",
    "rxt50_imagenet_test = pd.read_csv('New-IISc/IISc-resnext50_32x4d-New-NoNorm-ImageNet/logs/test_metrics_0_resnext50_32x4d.csv')"
   ]
  },
  {
   "cell_type": "code",
   "execution_count": null,
   "metadata": {},
   "outputs": [],
   "source": [
    "rxt50_imagenet_val_hamming = rxt50_imagenet_val['Hamming Score'].nlargest(2)\n",
    "rxt50_imagenet_val_f1 = rxt50_imagenet_val['W_Avg_F1'].nlargest(2)\n",
    "rxt50_imagenet_val_precision = rxt50_imagenet_val['W_Avg_P'].nlargest(2)\n",
    "rxt50_imagenet_val_recall = rxt50_imagenet_val['W_Avg_R'].nlargest(2)\n",
    "rxt50_imagenet_val_zero_one = rxt50_imagenet_val['Zero One Loss'].nsmallest(2)\n",
    "rxt50_imagenet_val_loss = rxt50_imagenet_val['Loss'].nsmallest(2)\n",
    "\n",
    "print('ResNext50 ImageNet Validation Metrics')\n",
    "print('Hamming Score:', rxt50_imagenet_val_hamming)\n",
    "print()\n",
    "print('F1 Score:', rxt50_imagenet_val_f1)\n",
    "print()\n",
    "print('Precision:', rxt50_imagenet_val_precision)\n",
    "print()\n",
    "print('Recall:', rxt50_imagenet_val_recall)\n",
    "print()\n",
    "print('Zero One Loss:', rxt50_imagenet_val_zero_one)\n",
    "print()\n",
    "print('Loss:', rxt50_imagenet_val_loss)\n",
    "print()"
   ]
  },
  {
   "cell_type": "code",
   "execution_count": null,
   "metadata": {},
   "outputs": [],
   "source": [
    "rxt50_imagenet_test_hamming = rxt50_imagenet_test['Hamming Score'].nlargest(2)\n",
    "rxt50_imagenet_test_f1 = rxt50_imagenet_test['W_Avg_F1'].nlargest(2)\n",
    "rxt50_imagenet_test_precision = rxt50_imagenet_test['W_Avg_P'].nlargest(2)\n",
    "rxt50_imagenet_test_recall = rxt50_imagenet_test['W_Avg_R'].nlargest(2)\n",
    "rxt50_imagenet_test_zero_one = rxt50_imagenet_test['Zero One Loss'].nsmallest(2)\n",
    "rxt50_imagenet_test_loss = rxt50_imagenet_test['Loss'].nsmallest(2)\n",
    "\n",
    "print('ResNext50 ImageNet Test Metrics')\n",
    "print('Hamming Score:', rxt50_imagenet_test_hamming)\n",
    "print()\n",
    "print('F1 Score:', rxt50_imagenet_test_f1)\n",
    "print()\n",
    "print('Precision:', rxt50_imagenet_test_precision)\n",
    "print()\n",
    "print('Recall:', rxt50_imagenet_test_recall)\n",
    "print()\n",
    "print('Zero One Loss:', rxt50_imagenet_test_zero_one)\n",
    "print()\n",
    "print('Loss:', rxt50_imagenet_test_loss)\n",
    "print()\n"
   ]
  },
  {
   "cell_type": "markdown",
   "metadata": {},
   "source": [
    "# ResNet50"
   ]
  },
  {
   "cell_type": "markdown",
   "metadata": {},
   "source": [
    "### ResNet50-ImageNet"
   ]
  },
  {
   "cell_type": "code",
   "execution_count": 30,
   "metadata": {},
   "outputs": [],
   "source": [
    "r50_imagenet_val = pd.read_csv('./New-IISc/IISc-resnet50-New-NoNorm-Better-ImageNet/logs/val_metrics_0_resnext50_32x4d.csv')\n",
    "r50_imagenet_test = pd.read_csv('./New-IISc/IISc-resnet50-New-NoNorm-Better-ImageNet/logs/test_metrics_0_resnext50_32x4d.csv')"
   ]
  },
  {
   "cell_type": "code",
   "execution_count": null,
   "metadata": {},
   "outputs": [],
   "source": [
    "r50_imagenet_val_hamming = r50_imagenet_val['Hamming Score'].nlargest(2)\n",
    "r50_imagenet_val_f1 = r50_imagenet_val['W_Avg_F1'].nlargest(2)\n",
    "r50_imagenet_val_precision = r50_imagenet_val['W_Avg_P'].nlargest(2)\n",
    "r50_imagenet_val_recall = r50_imagenet_val['W_Avg_R'].nlargest(2)\n",
    "r50_imagenet_val_zero_one = r50_imagenet_val['Zero One Loss'].nsmallest(2)\n",
    "r50_imagenet_val_loss = r50_imagenet_val['Loss'].nsmallest(2)\n",
    "\n",
    "print('ResNet50 ImageNet Validation Metrics')\n",
    "print('Hamming Score:', r50_imagenet_val_hamming)\n",
    "print()\n",
    "print('F1 Score:', r50_imagenet_val_f1)\n",
    "print()\n",
    "print('Precision:', r50_imagenet_val_precision)\n",
    "print()\n",
    "print('Recall:', r50_imagenet_val_recall)\n",
    "print()\n",
    "print('Zero One Loss:', r50_imagenet_val_zero_one)\n",
    "print()\n",
    "print('Loss:', r50_imagenet_val_loss)\n",
    "print()"
   ]
  },
  {
   "cell_type": "code",
   "execution_count": null,
   "metadata": {},
   "outputs": [],
   "source": [
    "r50_imagenet_test_hamming = r50_imagenet_test['Hamming Score'].nlargest(2)\n",
    "r50_imagenet_test_f1 = r50_imagenet_test['W_Avg_F1'].nlargest(2)\n",
    "r50_imagenet_test_precision = r50_imagenet_test['W_Avg_P'].nlargest(2)\n",
    "r50_imagenet_test_recall = r50_imagenet_test['W_Avg_R'].nlargest(2)\n",
    "r50_imagenet_test_zero_one = r50_imagenet_test['Zero One Loss'].nsmallest(2)\n",
    "r50_imagenet_test_loss = r50_imagenet_test['Loss'].nsmallest(2)\n",
    "\n",
    "print('ResNet50 ImageNet Test Metrics')\n",
    "print('Hamming Score:', r50_imagenet_test_hamming)\n",
    "print()\n",
    "print('F1 Score:', r50_imagenet_test_f1)\n",
    "print()\n",
    "print('Precision:', r50_imagenet_test_precision)\n",
    "print()\n",
    "print('Recall:', r50_imagenet_test_recall)\n",
    "print()\n",
    "print('Zero One Loss:', r50_imagenet_test_zero_one)\n",
    "print()\n",
    "print('Loss:', r50_imagenet_test_loss)\n",
    "print()"
   ]
  },
  {
   "cell_type": "markdown",
   "metadata": {},
   "source": [
    "### ResNet50-ImageNet-Aug"
   ]
  },
  {
   "cell_type": "code",
   "execution_count": 33,
   "metadata": {},
   "outputs": [],
   "source": [
    "r50_imagenet_aug_val = pd.read_csv('AUG-New-IISc/IISc-resnet50-New-NoNorm-ImageNet-AUG/logs/val_metrics_0_resnet50.csv')\n",
    "r50_imagenet_aug_test = pd.read_csv('AUG-New-IISc/IISc-resnet50-New-NoNorm-ImageNet-AUG/logs/test_metrics_0_resnet50.csv')"
   ]
  },
  {
   "cell_type": "code",
   "execution_count": null,
   "metadata": {},
   "outputs": [],
   "source": [
    "r50_imagenet_aug_val_hamming = r50_imagenet_aug_val['Hamming Score'].nlargest(2)\n",
    "r50_imagenet_aug_val_f1 = r50_imagenet_aug_val['W_Avg_F1'].nlargest(2)\n",
    "r50_imagenet_aug_val_precision = r50_imagenet_aug_val['W_Avg_P'].nlargest(2)\n",
    "r50_imagenet_aug_val_recall = r50_imagenet_aug_val['W_Avg_R'].nlargest(2)\n",
    "r50_imagenet_aug_val_zero_one = r50_imagenet_aug_val['Zero One Loss'].nsmallest(2)\n",
    "r50_imagenet_aug_val_loss = r50_imagenet_aug_val['Loss'].nsmallest(2)\n",
    "\n",
    "print('ResNet50 ImageNet Augmented Validation Metrics')\n",
    "print('Hamming Score:', r50_imagenet_aug_val_hamming)\n",
    "print()\n",
    "print('F1 Score:', r50_imagenet_aug_val_f1)\n",
    "print()\n",
    "print('Precision:', r50_imagenet_aug_val_precision)\n",
    "print()\n",
    "print('Recall:', r50_imagenet_aug_val_recall)\n",
    "print()\n",
    "print('Zero One Loss:', r50_imagenet_aug_val_zero_one)\n",
    "print()\n",
    "print('Loss:', r50_imagenet_aug_val_loss)\n",
    "print()\n"
   ]
  },
  {
   "cell_type": "code",
   "execution_count": null,
   "metadata": {},
   "outputs": [],
   "source": [
    "r50_imagenet_aug_test_hamming = r50_imagenet_aug_test['Hamming Score'].nlargest(2)\n",
    "r50_imagenet_aug_test_f1 = r50_imagenet_aug_test['W_Avg_F1'].nlargest(2)\n",
    "r50_imagenet_aug_test_precision = r50_imagenet_aug_test['W_Avg_P'].nlargest(2)\n",
    "r50_imagenet_aug_test_recall = r50_imagenet_aug_test['W_Avg_R'].nlargest(2)\n",
    "r50_imagenet_aug_test_zero_one = r50_imagenet_aug_test['Zero One Loss'].nsmallest(2)\n",
    "r50_imagenet_aug_test_loss = r50_imagenet_aug_test['Loss'].nsmallest(2)\n",
    "\n",
    "print('ResNet50 ImageNet Augmented Test Metrics')\n",
    "print('Hamming Score:', r50_imagenet_aug_test_hamming)\n",
    "print()\n",
    "print('F1 Score:', r50_imagenet_aug_test_f1)\n",
    "print()\n",
    "print('Precision:', r50_imagenet_aug_test_precision)\n",
    "print()\n",
    "print('Recall:', r50_imagenet_aug_test_recall)\n",
    "print()\n",
    "print('Zero One Loss:', r50_imagenet_aug_test_zero_one)\n",
    "print()\n",
    "print('Loss:', r50_imagenet_aug_test_loss)\n",
    "print()"
   ]
  },
  {
   "cell_type": "markdown",
   "metadata": {},
   "source": [
    "### ResNet50-Gray"
   ]
  },
  {
   "cell_type": "code",
   "execution_count": 37,
   "metadata": {},
   "outputs": [],
   "source": [
    "r50_gray_val = pd.read_csv('IISc-resnet50-New-2/logs/val_metrics_0_resnet50.csv')\n",
    "r50_gray_test = pd.read_csv('IISc-resnet50-New-2/logs/test_metrics_0_resnet50.csv')"
   ]
  },
  {
   "cell_type": "code",
   "execution_count": null,
   "metadata": {},
   "outputs": [],
   "source": [
    "r50_gray_val_hamming = r50_gray_val['Hamming Score'].nlargest(2)\n",
    "r50_gray_val_f1 = r50_gray_val['W_Avg_F1'].nlargest(2)\n",
    "r50_gray_val_precision = r50_gray_val['W_Avg_P'].nlargest(2)\n",
    "r50_gray_val_recall = r50_gray_val['W_Avg_R'].nlargest(2)\n",
    "r50_gray_val_zero_one = r50_gray_val['Zero One Loss'].nsmallest(2)\n",
    "r50_gray_val_loss = r50_gray_val['Loss'].nsmallest(2)\n",
    "\n",
    "print('ResNet50 Gray Validation Metrics')\n",
    "print('Hamming Score:', r50_gray_val_hamming)\n",
    "print()\n",
    "print('F1 Score:', r50_gray_val_f1)\n",
    "print()\n",
    "print('Precision:', r50_gray_val_precision)\n",
    "print()\n",
    "print('Recall:', r50_gray_val_recall)\n",
    "print()\n",
    "print('Zero One Loss:', r50_gray_val_zero_one)\n",
    "print()\n",
    "print('Loss:', r50_gray_val_loss)\n",
    "print()\n"
   ]
  },
  {
   "cell_type": "code",
   "execution_count": null,
   "metadata": {},
   "outputs": [],
   "source": [
    "r50_gray_test_hamming = r50_gray_test['Hamming Score'].nlargest(2)\n",
    "r50_gray_test_f1 = r50_gray_test['W_Avg_F1'].nlargest(2)\n",
    "r50_gray_test_precision = r50_gray_test['W_Avg_P'].nlargest(2)\n",
    "r50_gray_test_recall = r50_gray_test['W_Avg_R'].nlargest(2)\n",
    "r50_gray_test_zero_one = r50_gray_test['Zero One Loss'].nsmallest(2)\n",
    "r50_gray_test_loss = r50_gray_test['Loss'].nsmallest(2)\n",
    "\n",
    "print('ResNet50 Gray Test Metrics')\n",
    "print('Hamming Score:', r50_gray_test_hamming)\n",
    "print()\n",
    "print('F1 Score:', r50_gray_test_f1)\n",
    "print()\n",
    "print('Precision:', r50_gray_test_precision)\n",
    "print()\n",
    "print('Recall:', r50_gray_test_recall)\n",
    "print()\n",
    "print('Zero One Loss:', r50_gray_test_zero_one)\n",
    "print()\n",
    "print('Loss:', r50_gray_test_loss)\n",
    "print()\n"
   ]
  },
  {
   "cell_type": "markdown",
   "metadata": {},
   "source": [
    "# ResNeXt101"
   ]
  },
  {
   "cell_type": "markdown",
   "metadata": {},
   "source": [
    "### ResNeXt101-ImageNet-NoNorm"
   ]
  },
  {
   "cell_type": "code",
   "execution_count": 43,
   "metadata": {},
   "outputs": [],
   "source": [
    "rxt101_imagenet_val = pd.read_csv('New-IISc/IISc-resnext101_32x8d-New-NoNorm-ImageNet/logs/val_metrics_0_resnext101_32x8d.csv')\n",
    "rxt101_imagenet_test = pd.read_csv('New-IISc/IISc-resnext101_32x8d-New-NoNorm-ImageNet/logs/test_metrics_0_resnext101_32x8d.csv')"
   ]
  },
  {
   "cell_type": "code",
   "execution_count": null,
   "metadata": {},
   "outputs": [],
   "source": [
    "rxt101_imagenet_val_hamming = rxt101_imagenet_val['Hamming Score'].nlargest(2)\n",
    "rxt101_imagenet_val_f1 = rxt101_imagenet_val['W_Avg_F1'].nlargest(2)\n",
    "rxt101_imagenet_val_precision = rxt101_imagenet_val['W_Avg_P'].nlargest(2)\n",
    "rxt101_imagenet_val_recall = rxt101_imagenet_val['W_Avg_R'].nlargest(2)\n",
    "rxt101_imagenet_val_zero_one = rxt101_imagenet_val['Zero One Loss'].nsmallest(2)\n",
    "rxt101_imagenet_val_loss = rxt101_imagenet_val['Loss'].nsmallest(2)\n",
    "\n",
    "print('ResNext101 ImageNet Validation Metrics')\n",
    "print('Hamming Score:', rxt101_imagenet_val_hamming)\n",
    "print()\n",
    "print('F1 Score:', rxt101_imagenet_val_f1)\n",
    "print()\n",
    "print('Precision:', rxt101_imagenet_val_precision)\n",
    "print()\n",
    "print('Recall:', rxt101_imagenet_val_recall)\n",
    "print()\n",
    "print('Zero One Loss:', rxt101_imagenet_val_zero_one)\n",
    "print()\n",
    "print('Loss:', rxt101_imagenet_val_loss)\n",
    "print()\n",
    "\n"
   ]
  },
  {
   "cell_type": "code",
   "execution_count": null,
   "metadata": {},
   "outputs": [],
   "source": [
    "rxt101_imagenet_test_hamming = rxt101_imagenet_test['Hamming Score'].nlargest(2)\n",
    "rxt101_imagenet_test_f1 = rxt101_imagenet_test['W_Avg_F1'].nlargest(2)\n",
    "rxt101_imagenet_test_precision = rxt101_imagenet_test['W_Avg_P'].nlargest(2)\n",
    "rxt101_imagenet_test_recall = rxt101_imagenet_test['W_Avg_R'].nlargest(2)\n",
    "rxt101_imagenet_test_zero_one = rxt101_imagenet_test['Zero One Loss'].nsmallest(2)\n",
    "rxt101_imagenet_test_loss = rxt101_imagenet_test['Loss'].nsmallest(2)\n",
    "\n",
    "print('ResNext101 ImageNet Test Metrics')\n",
    "print('Hamming Score:', rxt101_imagenet_test_hamming)\n",
    "print()\n",
    "print('F1 Score:', rxt101_imagenet_test_f1)\n",
    "print()\n",
    "print('Precision:', rxt101_imagenet_test_precision)\n",
    "print()\n",
    "print('Recall:', rxt101_imagenet_test_recall)\n",
    "print()\n",
    "print('Zero One Loss:', rxt101_imagenet_test_zero_one)\n",
    "print()\n",
    "print('Loss:', rxt101_imagenet_test_loss)\n",
    "print()\n"
   ]
  },
  {
   "cell_type": "markdown",
   "metadata": {},
   "source": [
    "### ResNeXt101-ImageNet-NoNorm-Aug"
   ]
  },
  {
   "cell_type": "code",
   "execution_count": 46,
   "metadata": {},
   "outputs": [],
   "source": [
    "rxt101_imagenet_aug_val = pd.read_csv('AUG-New-IISc/IISc-resnext101_32x8d-New-NoNorm-ImageNet-AUG/logs/val_metrics_0_resnext101_32x8d.csv')\n",
    "rxt101_imagenet_aug_test = pd.read_csv('AUG-New-IISc/IISc-resnext101_32x8d-New-NoNorm-ImageNet-AUG/logs/test_metrics_0_resnext101_32x8d.csv')"
   ]
  },
  {
   "cell_type": "code",
   "execution_count": null,
   "metadata": {},
   "outputs": [],
   "source": [
    "rxt101_imagenet_aug_val_hamming = rxt101_imagenet_aug_val['Hamming Score'].nlargest(2)\n",
    "rxt101_imagenet_aug_val_f1 = rxt101_imagenet_aug_val['W_Avg_F1'].nlargest(2)\n",
    "rxt101_imagenet_aug_val_precision = rxt101_imagenet_aug_val['W_Avg_P'].nlargest(2)\n",
    "rxt101_imagenet_aug_val_recall = rxt101_imagenet_aug_val['W_Avg_R'].nlargest(2)\n",
    "rxt101_imagenet_aug_val_zero_one = rxt101_imagenet_aug_val['Zero One Loss'].nsmallest(2)\n",
    "rxt101_imagenet_aug_val_loss = rxt101_imagenet_aug_val['Loss'].nsmallest(2)\n",
    "\n",
    "print('ResNext101 ImageNet Augmented Validation Metrics')\n",
    "print('Hamming Score:', rxt101_imagenet_aug_val_hamming)\n",
    "print()\n",
    "print('F1 Score:', rxt101_imagenet_aug_val_f1)\n",
    "print()\n",
    "print('Precision:', rxt101_imagenet_aug_val_precision)\n",
    "print()\n",
    "print('Recall:', rxt101_imagenet_aug_val_recall)\n",
    "print()\n",
    "print('Zero One Loss:', rxt101_imagenet_aug_val_zero_one)\n",
    "print()\n",
    "print('Loss:', rxt101_imagenet_aug_val_loss)\n",
    "print()"
   ]
  },
  {
   "cell_type": "code",
   "execution_count": null,
   "metadata": {},
   "outputs": [],
   "source": [
    "rxt101_imagenet_aug_test_hamming = rxt101_imagenet_aug_test['Hamming Score'].nlargest(2)\n",
    "rxt101_imagenet_aug_test_f1 = rxt101_imagenet_aug_test['W_Avg_F1'].nlargest(2)\n",
    "rxt101_imagenet_aug_test_precision = rxt101_imagenet_aug_test['W_Avg_P'].nlargest(2)\n",
    "rxt101_imagenet_aug_test_recall = rxt101_imagenet_aug_test['W_Avg_R'].nlargest(2)\n",
    "rxt101_imagenet_aug_test_zero_one = rxt101_imagenet_aug_test['Zero One Loss'].nsmallest(2)\n",
    "rxt101_imagenet_aug_test_loss = rxt101_imagenet_aug_test['Loss'].nsmallest(2)\n",
    "\n",
    "print('ResNext101 ImageNet Augmented Test Metrics')\n",
    "print('Hamming Score:', rxt101_imagenet_aug_test_hamming)\n",
    "print()\n",
    "print('F1 Score:', rxt101_imagenet_aug_test_f1)\n",
    "print()\n",
    "print('Precision:', rxt101_imagenet_aug_test_precision)\n",
    "print()\n",
    "print('Recall:', rxt101_imagenet_aug_test_recall)\n",
    "print()\n",
    "print('Zero One Loss:', rxt101_imagenet_aug_test_zero_one)\n",
    "print()\n",
    "print('Loss:', rxt101_imagenet_aug_test_loss)\n",
    "print()\n"
   ]
  }
 ],
 "metadata": {
  "kernelspec": {
   "display_name": "env_iisc",
   "language": "python",
   "name": "python3"
  },
  "language_info": {
   "codemirror_mode": {
    "name": "ipython",
    "version": 3
   },
   "file_extension": ".py",
   "mimetype": "text/x-python",
   "name": "python",
   "nbconvert_exporter": "python",
   "pygments_lexer": "ipython3",
   "version": "3.10.11"
  }
 },
 "nbformat": 4,
 "nbformat_minor": 2
}
